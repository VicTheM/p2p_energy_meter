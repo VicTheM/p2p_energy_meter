{
 "cells": [
  {
   "cell_type": "markdown",
   "metadata": {},
   "source": [
    "***MQTT_SUB_MESSAGE STRUCTURE***\n",
    "\n",
    "|   Key     |   value    |  type     |\n",
    "|-----------|------------|-----------|\n",
    "| state     | 0, 1, 2, 3 | unit8_t   |\n",
    "| ack       | True, False | Bool     |\n",
    "\n",
    "***decodings***\n",
    "- state\n",
    "    - 0: means disconnect\n",
    "    - 1: means connect and send\n",
    "    - 2: means conect and receive\n",
    "    - 3: means, don't change state but refresh your status on the broker\n",
    "\n",
    "- ack\n",
    "    - True: Means refresh your stste on the broker by acknowledging you received this message\n",
    "    - False: Means Don't respond to this message, just obey it\n"
   ]
  },
  {
   "cell_type": "markdown",
   "metadata": {},
   "source": [
    "***MQTT_PUB_MESSAGE STRUCTURE***\n",
    "\n",
    "|   Key     |   value    |  type     |\n",
    "|-----------|------------|-----------|\n",
    "| state     | 0, 1, 2, 3 | unit8_t   |\n",
    "| voltage   | value      | float     |\n",
    "| current   | value      | float     |\n",
    "| time      | value      | string    |\n",
    "\n",
    "***decodings***\n",
    "- state\n",
    "    - 0: means DISCONNECTED\n",
    "    - 1: means SENDING\n",
    "    - 2: means RECEIVING\n",
    "    - 3: means, Previous state Unchanged\n",
    "- ack\n",
    "    - True: Means refresh your stste on the broker by acknowledging you received this message\n",
    "    - False: Means Don't respond to this message, just obey it\n",
    "- voltege\n",
    "    - simply the value of the voltage used\n",
    "- current\n",
    "    - simply value of current used\n",
    "- time\n",
    "    - The time for which that current was drawn\n",
    "    - the string format will be \"hours:mins:seconds:milliseconds\""
   ]
  }
 ],
 "metadata": {
  "language_info": {
   "name": "python"
  }
 },
 "nbformat": 4,
 "nbformat_minor": 2
}
